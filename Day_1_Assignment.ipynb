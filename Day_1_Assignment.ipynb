{
  "nbformat": 4,
  "nbformat_minor": 0,
  "metadata": {
    "colab": {
      "name": "Day 1 Assignment.ipynb",
      "provenance": [],
      "collapsed_sections": []
    },
    "kernelspec": {
      "name": "python3",
      "display_name": "Python 3"
    },
    "language_info": {
      "name": "python"
    }
  },
  "cells": [
    {
      "cell_type": "code",
      "metadata": {
        "id": "qWhXGzrNyd6d",
        "colab": {
          "base_uri": "https://localhost:8080/"
        },
        "outputId": "ba0dc51e-059e-4928-9bfa-f65b98901674"
      },
      "source": [
        "a = 10\n",
        "b = 20\n",
        "\n",
        "print(a*b)\n",
        "print(a/b)\n",
        "print(a%b)\n",
        "print((a*b)+(a/b))\n",
        "\n",
        "\n",
        "\n"
      ],
      "execution_count": 1,
      "outputs": [
        {
          "output_type": "stream",
          "name": "stdout",
          "text": [
            "200\n",
            "0.5\n",
            "10\n",
            "200.5\n"
          ]
        }
      ]
    },
    {
      "cell_type": "code",
      "metadata": {
        "colab": {
          "base_uri": "https://localhost:8080/"
        },
        "id": "R_3WJCf05m70",
        "outputId": "a6b42992-8b96-4f37-ac8b-54e909567994"
      },
      "source": [
        "P =  int(input(\"Enter the principle amount  \"))\n",
        "R = int(input(\"Enter the rate if interest  \"))\n",
        "T = int(input(\"Enter the time period  \"))\n",
        "\n",
        "Simple_Interest = (P * R * T)/100\n",
        "\n",
        "\n",
        "print(\"Simple Interest is \", Simple_Interest)\n",
        "\n",
        "\n",
        "\n"
      ],
      "execution_count": 8,
      "outputs": [
        {
          "output_type": "stream",
          "name": "stdout",
          "text": [
            "Enter the principle amount  800\n",
            "Enter the rate if interest  6\n",
            "Enter the time period  5\n",
            "Simple Interest is  240.0\n"
          ]
        }
      ]
    }
  ]
}